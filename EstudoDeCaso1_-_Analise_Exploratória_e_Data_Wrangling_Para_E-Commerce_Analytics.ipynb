{
 "cells": [
  {
   "cell_type": "markdown",
   "id": "0cd31e93",
   "metadata": {},
   "source": [
    "# <font color='blue'><u>Estudo de Caso</u></font>\n",
    "\n",
    "## <font color='blue'>Análise Exploratória e Data Wrangling Para E-Commerce Analytics</font>"
   ]
  },
  {
   "cell_type": "markdown",
   "id": "fc08a6d9",
   "metadata": {},
   "source": [
    "#### Obs: Estaremos utilizando a mesma base de dados para trabalhar em um grande projeto de Ciência de Dados distribuído em 3 capítulos:\n",
    "\n",
    "- Capítulo 4 (Análise Exploratória de Dados) -> <strong>Atual</strong>\n",
    "    - **Parte 1**\n",
    "    - **Parte 2**\n",
    "- Capítulo 5 (Engenharia de Atributos)\n",
    "- Capítulo 6 (Pré-Processamento de Dados)"
   ]
  },
  {
   "cell_type": "markdown",
   "id": "873bcb87",
   "metadata": {},
   "source": [
    "## Contexto (Cap. 4)\n",
    "\n",
    "#### Este Estudo de Caso traz uma série de atividades em uma das tarefas mais importantes em Ciência de Dados, a Análise Exploratória.\n",
    "\n",
    "#### Na Parte 1 do Estudo de Caso,a Análise Exploratória traz os detalhes técnicos com análise estatística, visualização  de  dados,  interpretação  de  gráficos  e  tabelas,  análise  univariada  e bivariada e relatório de conclusão.\n",
    "\n",
    "#### Na Parte 2 o foco é na Análise Exploratória para responder perguntas de negócio, onde os dados são manipulados através de Data Wrangling com Pandas e analisados por diferentes perspectivas. Customização de gráficos é outro tema abordado durante as aulas.\n",
    "\n",
    "#### Todo  o  Estudo  de  Caso é  no  contexto  de  um  problema  de  negócio  em  E-Commerce Analytics.<br><br><br>"
   ]
  },
  {
   "cell_type": "markdown",
   "id": "42e4c39e",
   "metadata": {},
   "source": [
    "## Definição do Problema<br>\n",
    "\n",
    "Uma empresa internacional de comércio eletrônico (E-commerce)que vende produtos eletrônicos deseja descobrir informações importantes de seu banco de dados de clientes.\n",
    "\n",
    "Os produtos ficam armazenados em um armazém na sede da empresa. Após concluir a compra no web site da empresa, o cliente recebe o produto em casa, em qualquer parte do mundo.  Os  produtos  são  enviados  de  Navio,  Avião  ou  Caminhão,  dependendo  da  região  de entrega.\n",
    "\n",
    "Em cada compra o cliente pode receber um desconto dependendo do peso do produto comprado. Cada cliente pode fazer chamadas ao suporte da empresa no caso de dúvidas ou problemas e após receber o produto o cliente pode deixar uma avaliação sobre a experiência de compra. O único dado pessoal sobre o cliente que está disponível é o gênero.\n",
    "\n",
    "Nosso trabalho neste <u>Estudo de Caso</u> é explorar os dados, compreender como estão organizados, detectar eventuais problemas e analisar os dados por diferentes perspectivas.\n",
    "\n",
    "Trabalharemos com dados fictícios que representam dados reais de uma empresa de E-Commerce. Os dados estão disponíveis na pasta \"dados\". <br><br><br>"
   ]
  },
  {
   "cell_type": "markdown",
   "id": "0948d308",
   "metadata": {},
   "source": [
    "## Dicionário de Dados<br><br>\n",
    "\n",
    "<table border=\"2\">\n",
    "  <tr>\n",
    "    <th>Nome da Coluna</th>\n",
    "    <th>Tipo de Dado</th>\n",
    "    <th>Descrição</th>\n",
    "  </tr>\n",
    "  <tr>\n",
    "    <td>ID</td>\n",
    "    <td>Int</td>\n",
    "    <td>ID exclusivo de cada transação.</td>\n",
    "  </tr>\n",
    "  <tr>\n",
    "    <td>corredor_armazem</td>\n",
    "    <td>Character(1)</td>\n",
    "    <td>Letra do corredor do armazém onde o produto está armazenado.</td>\n",
    "  </tr>\n",
    "  <tr>\n",
    "    <td>modo_envio</td>\n",
    "    <td>String</td>\n",
    "    <td>Modo de envio do produto.</td>\n",
    "  </tr>\n",
    "  <tr>\n",
    "    <td>numero_chamadas_cliente</td>\n",
    "    <td>Int</td>\n",
    "    <td>Número de vezes que o cliente acionou o suporte da empresa.</td>\n",
    "  </tr>\n",
    "  <tr>\n",
    "    <td>avaliacao_cliente</td>\n",
    "    <td>Int</td>\n",
    "    <td>Avaliação do cliente sobre a experiência de compra.</td>\n",
    "  </tr>\n",
    "  <tr>\n",
    "    <td>custo_produto</td>\n",
    "    <td>Int</td>\n",
    "    <td>Custo do produto.</td>\n",
    "  </tr>\n",
    "  <tr>\n",
    "    <td>compras_anteriores</td>\n",
    "    <td>Int</td>\n",
    "    <td>Número de vezes que o cliente fez uma compra na empresa.</td>\n",
    "  </tr>\n",
    "  <tr>\n",
    "    <td>prioridade_produto</td>\n",
    "    <td>String</td>\n",
    "    <td>Prioridade de entrega do produto.</td>\n",
    "  </tr>\n",
    "  <tr>\n",
    "    <td>genero</td>\n",
    "    <td>Character(1)</td>\n",
    "    <td>Gênero do cliente (F ou M).</td>\n",
    "  </tr>\n",
    "  <tr>\n",
    "    <td>desconto</td>\n",
    "    <td>Int</td>\n",
    "    <td>Desconto concedido na compra do produto.</td>\n",
    "  </tr>\n",
    "  <tr>\n",
    "    <td>peso_gramas</td>\n",
    "    <td>Int</td>\n",
    "    <td>Peso do produto.</td>\n",
    "  </tr>\n",
    "  <tr>\n",
    "    <td>entregue_no_prazo</td>\n",
    "    <td>Character(1)</td>\n",
    "    <td>Se o produto foi entregue no prazo, sendo 0 (não foi entregue no prazo) ou 1 (foi entregue no prazo).</td>\n",
    "  </tr>\n",
    "</table><br><br><br><br>"
   ]
  },
  {
   "cell_type": "code",
   "execution_count": 1,
   "id": "ffae7c0a",
   "metadata": {},
   "outputs": [],
   "source": [
    "# Importando pacotes\n",
    "import numpy as np\n",
    "import pandas as pd\n",
    "import matplotlib.pyplot as plt\n",
    "import seaborn as sns\n",
    "import warnings\n",
    "warnings.filterwarnings(\"ignore\")"
   ]
  },
  {
   "cell_type": "code",
   "execution_count": 2,
   "id": "8772d226",
   "metadata": {},
   "outputs": [
    {
     "name": "stdout",
     "output_type": "stream",
     "text": [
      "Author: Data Science Academy\n",
      "\n",
      "pandas    : 2.2.1\n",
      "matplotlib: 3.8.3\n",
      "numpy     : 1.26.4\n",
      "seaborn   : 0.13.2\n",
      "\n"
     ]
    }
   ],
   "source": [
    "# Versões dos pacotes usados neste jupyter notebook\n",
    "%reload_ext watermark\n",
    "%watermark -a \"Data Science Academy\" --iversions"
   ]
  },
  {
   "cell_type": "code",
   "execution_count": 27,
   "id": "73fc220e",
   "metadata": {},
   "outputs": [],
   "source": [
    "# Parâmetros de configuração dos gráficos globais\n",
    "# (estratégia pra não ficar configurando parâmetro gráfico a gráfico. Desta forma os parâmetros serão padronizados)\n",
    "from matplotlib import rcParams\n",
    "\n",
    "rcParams['figure.figsize'] = 12, 4\n",
    "rcParams['lines.linewidth'] = 3\n",
    "rcParams['xtick.labelsize'] = 'x-large'\n",
    "rcParams['ytick.labelsize'] = 'x-large'"
   ]
  },
  {
   "cell_type": "markdown",
   "id": "6ae1b598",
   "metadata": {},
   "source": [
    "<br><br>"
   ]
  },
  {
   "cell_type": "markdown",
   "id": "403b0444",
   "metadata": {},
   "source": [
    "# Carregando o Dataset<br>"
   ]
  },
  {
   "cell_type": "code",
   "execution_count": 4,
   "id": "8d6fc18e",
   "metadata": {},
   "outputs": [],
   "source": [
    "# Carrega os dados\n",
    "df = pd.read_csv('dados/dataset.csv')"
   ]
  },
  {
   "cell_type": "code",
   "execution_count": 5,
   "id": "4fe4f70d",
   "metadata": {},
   "outputs": [
    {
     "data": {
      "text/html": [
       "<div>\n",
       "<style scoped>\n",
       "    .dataframe tbody tr th:only-of-type {\n",
       "        vertical-align: middle;\n",
       "    }\n",
       "\n",
       "    .dataframe tbody tr th {\n",
       "        vertical-align: top;\n",
       "    }\n",
       "\n",
       "    .dataframe thead th {\n",
       "        text-align: right;\n",
       "    }\n",
       "</style>\n",
       "<table border=\"1\" class=\"dataframe\">\n",
       "  <thead>\n",
       "    <tr style=\"text-align: right;\">\n",
       "      <th></th>\n",
       "      <th>ID</th>\n",
       "      <th>corredor_armazem</th>\n",
       "      <th>modo_envio</th>\n",
       "      <th>numero_chamadas_cliente</th>\n",
       "      <th>avaliacao_cliente</th>\n",
       "      <th>custo_produto</th>\n",
       "      <th>compras_anteriores</th>\n",
       "      <th>prioridade_produto</th>\n",
       "      <th>genero</th>\n",
       "      <th>desconto</th>\n",
       "      <th>peso_gramas</th>\n",
       "      <th>entregue_no_prazo</th>\n",
       "    </tr>\n",
       "  </thead>\n",
       "  <tbody>\n",
       "    <tr>\n",
       "      <th>0</th>\n",
       "      <td>1</td>\n",
       "      <td>D</td>\n",
       "      <td>Aviao</td>\n",
       "      <td>4</td>\n",
       "      <td>2</td>\n",
       "      <td>177</td>\n",
       "      <td>3</td>\n",
       "      <td>baixa</td>\n",
       "      <td>F</td>\n",
       "      <td>44</td>\n",
       "      <td>1233</td>\n",
       "      <td>1</td>\n",
       "    </tr>\n",
       "    <tr>\n",
       "      <th>1</th>\n",
       "      <td>2</td>\n",
       "      <td>F</td>\n",
       "      <td>Aviao</td>\n",
       "      <td>4</td>\n",
       "      <td>5</td>\n",
       "      <td>216</td>\n",
       "      <td>2</td>\n",
       "      <td>baixa</td>\n",
       "      <td>M</td>\n",
       "      <td>59</td>\n",
       "      <td>3088</td>\n",
       "      <td>1</td>\n",
       "    </tr>\n",
       "    <tr>\n",
       "      <th>2</th>\n",
       "      <td>3</td>\n",
       "      <td>A</td>\n",
       "      <td>Aviao</td>\n",
       "      <td>2</td>\n",
       "      <td>2</td>\n",
       "      <td>183</td>\n",
       "      <td>4</td>\n",
       "      <td>baixa</td>\n",
       "      <td>M</td>\n",
       "      <td>48</td>\n",
       "      <td>3374</td>\n",
       "      <td>1</td>\n",
       "    </tr>\n",
       "    <tr>\n",
       "      <th>3</th>\n",
       "      <td>4</td>\n",
       "      <td>B</td>\n",
       "      <td>Aviao</td>\n",
       "      <td>3</td>\n",
       "      <td>3</td>\n",
       "      <td>176</td>\n",
       "      <td>4</td>\n",
       "      <td>media</td>\n",
       "      <td>M</td>\n",
       "      <td>10</td>\n",
       "      <td>1177</td>\n",
       "      <td>1</td>\n",
       "    </tr>\n",
       "    <tr>\n",
       "      <th>4</th>\n",
       "      <td>5</td>\n",
       "      <td>C</td>\n",
       "      <td>Aviao</td>\n",
       "      <td>2</td>\n",
       "      <td>2</td>\n",
       "      <td>184</td>\n",
       "      <td>3</td>\n",
       "      <td>media</td>\n",
       "      <td>F</td>\n",
       "      <td>46</td>\n",
       "      <td>2484</td>\n",
       "      <td>1</td>\n",
       "    </tr>\n",
       "    <tr>\n",
       "      <th>...</th>\n",
       "      <td>...</td>\n",
       "      <td>...</td>\n",
       "      <td>...</td>\n",
       "      <td>...</td>\n",
       "      <td>...</td>\n",
       "      <td>...</td>\n",
       "      <td>...</td>\n",
       "      <td>...</td>\n",
       "      <td>...</td>\n",
       "      <td>...</td>\n",
       "      <td>...</td>\n",
       "      <td>...</td>\n",
       "    </tr>\n",
       "    <tr>\n",
       "      <th>10995</th>\n",
       "      <td>10996</td>\n",
       "      <td>B</td>\n",
       "      <td>Navio</td>\n",
       "      <td>4</td>\n",
       "      <td>1</td>\n",
       "      <td>232</td>\n",
       "      <td>5</td>\n",
       "      <td>media</td>\n",
       "      <td>F</td>\n",
       "      <td>6</td>\n",
       "      <td>1247</td>\n",
       "      <td>0</td>\n",
       "    </tr>\n",
       "    <tr>\n",
       "      <th>10996</th>\n",
       "      <td>10997</td>\n",
       "      <td>C</td>\n",
       "      <td>Navio</td>\n",
       "      <td>5</td>\n",
       "      <td>4</td>\n",
       "      <td>242</td>\n",
       "      <td>5</td>\n",
       "      <td>baixa</td>\n",
       "      <td>F</td>\n",
       "      <td>4</td>\n",
       "      <td>1155</td>\n",
       "      <td>0</td>\n",
       "    </tr>\n",
       "    <tr>\n",
       "      <th>10997</th>\n",
       "      <td>10998</td>\n",
       "      <td>F</td>\n",
       "      <td>Navio</td>\n",
       "      <td>5</td>\n",
       "      <td>2</td>\n",
       "      <td>223</td>\n",
       "      <td>6</td>\n",
       "      <td>media</td>\n",
       "      <td>M</td>\n",
       "      <td>2</td>\n",
       "      <td>1210</td>\n",
       "      <td>0</td>\n",
       "    </tr>\n",
       "    <tr>\n",
       "      <th>10998</th>\n",
       "      <td>10999</td>\n",
       "      <td>D</td>\n",
       "      <td>Navio</td>\n",
       "      <td>2</td>\n",
       "      <td>5</td>\n",
       "      <td>155</td>\n",
       "      <td>5</td>\n",
       "      <td>baixa</td>\n",
       "      <td>F</td>\n",
       "      <td>6</td>\n",
       "      <td>1639</td>\n",
       "      <td>0</td>\n",
       "    </tr>\n",
       "    <tr>\n",
       "      <th>10999</th>\n",
       "      <td>11000</td>\n",
       "      <td>C</td>\n",
       "      <td>Navio</td>\n",
       "      <td>4</td>\n",
       "      <td>2</td>\n",
       "      <td>255</td>\n",
       "      <td>5</td>\n",
       "      <td>baixa</td>\n",
       "      <td>F</td>\n",
       "      <td>6</td>\n",
       "      <td>1739</td>\n",
       "      <td>0</td>\n",
       "    </tr>\n",
       "  </tbody>\n",
       "</table>\n",
       "<p>11000 rows × 12 columns</p>\n",
       "</div>"
      ],
      "text/plain": [
       "          ID corredor_armazem modo_envio  numero_chamadas_cliente  \\\n",
       "0          1                D      Aviao                        4   \n",
       "1          2                F      Aviao                        4   \n",
       "2          3                A      Aviao                        2   \n",
       "3          4                B      Aviao                        3   \n",
       "4          5                C      Aviao                        2   \n",
       "...      ...              ...        ...                      ...   \n",
       "10995  10996                B      Navio                        4   \n",
       "10996  10997                C      Navio                        5   \n",
       "10997  10998                F      Navio                        5   \n",
       "10998  10999                D      Navio                        2   \n",
       "10999  11000                C      Navio                        4   \n",
       "\n",
       "       avaliacao_cliente  custo_produto  compras_anteriores  \\\n",
       "0                      2            177                   3   \n",
       "1                      5            216                   2   \n",
       "2                      2            183                   4   \n",
       "3                      3            176                   4   \n",
       "4                      2            184                   3   \n",
       "...                  ...            ...                 ...   \n",
       "10995                  1            232                   5   \n",
       "10996                  4            242                   5   \n",
       "10997                  2            223                   6   \n",
       "10998                  5            155                   5   \n",
       "10999                  2            255                   5   \n",
       "\n",
       "      prioridade_produto genero  desconto  peso_gramas  entregue_no_prazo  \n",
       "0                  baixa      F        44         1233                  1  \n",
       "1                  baixa      M        59         3088                  1  \n",
       "2                  baixa      M        48         3374                  1  \n",
       "3                  media      M        10         1177                  1  \n",
       "4                  media      F        46         2484                  1  \n",
       "...                  ...    ...       ...          ...                ...  \n",
       "10995              media      F         6         1247                  0  \n",
       "10996              baixa      F         4         1155                  0  \n",
       "10997              media      M         2         1210                  0  \n",
       "10998              baixa      F         6         1639                  0  \n",
       "10999              baixa      F         6         1739                  0  \n",
       "\n",
       "[11000 rows x 12 columns]"
      ]
     },
     "execution_count": 5,
     "metadata": {},
     "output_type": "execute_result"
    }
   ],
   "source": [
    "# Visualizando dataframe\n",
    "df"
   ]
  },
  {
   "cell_type": "code",
   "execution_count": 6,
   "id": "5c27879f",
   "metadata": {},
   "outputs": [
    {
     "data": {
      "text/plain": [
       "(11000, 12)"
      ]
     },
     "execution_count": 6,
     "metadata": {},
     "output_type": "execute_result"
    }
   ],
   "source": [
    "# Shape\n",
    "df.shape"
   ]
  },
  {
   "cell_type": "code",
   "execution_count": 7,
   "id": "2820630d",
   "metadata": {},
   "outputs": [
    {
     "name": "stdout",
     "output_type": "stream",
     "text": [
      "<class 'pandas.core.frame.DataFrame'>\n",
      "RangeIndex: 11000 entries, 0 to 10999\n",
      "Data columns (total 12 columns):\n",
      " #   Column                   Non-Null Count  Dtype \n",
      "---  ------                   --------------  ----- \n",
      " 0   ID                       11000 non-null  int64 \n",
      " 1   corredor_armazem         11000 non-null  object\n",
      " 2   modo_envio               11000 non-null  object\n",
      " 3   numero_chamadas_cliente  11000 non-null  int64 \n",
      " 4   avaliacao_cliente        11000 non-null  int64 \n",
      " 5   custo_produto            11000 non-null  int64 \n",
      " 6   compras_anteriores       11000 non-null  int64 \n",
      " 7   prioridade_produto       11000 non-null  object\n",
      " 8   genero                   11000 non-null  object\n",
      " 9   desconto                 11000 non-null  int64 \n",
      " 10  peso_gramas              11000 non-null  int64 \n",
      " 11  entregue_no_prazo        11000 non-null  int64 \n",
      "dtypes: int64(8), object(4)\n",
      "memory usage: 1.0+ MB\n"
     ]
    }
   ],
   "source": [
    "# Verificando sumário\n",
    "df.info()"
   ]
  },
  {
   "cell_type": "code",
   "execution_count": 8,
   "id": "bb55f1b7",
   "metadata": {},
   "outputs": [
    {
     "data": {
      "text/html": [
       "<div>\n",
       "<style scoped>\n",
       "    .dataframe tbody tr th:only-of-type {\n",
       "        vertical-align: middle;\n",
       "    }\n",
       "\n",
       "    .dataframe tbody tr th {\n",
       "        vertical-align: top;\n",
       "    }\n",
       "\n",
       "    .dataframe thead th {\n",
       "        text-align: right;\n",
       "    }\n",
       "</style>\n",
       "<table border=\"1\" class=\"dataframe\">\n",
       "  <thead>\n",
       "    <tr style=\"text-align: right;\">\n",
       "      <th></th>\n",
       "      <th>ID</th>\n",
       "      <th>corredor_armazem</th>\n",
       "      <th>modo_envio</th>\n",
       "      <th>numero_chamadas_cliente</th>\n",
       "      <th>avaliacao_cliente</th>\n",
       "      <th>custo_produto</th>\n",
       "      <th>compras_anteriores</th>\n",
       "      <th>prioridade_produto</th>\n",
       "      <th>genero</th>\n",
       "      <th>desconto</th>\n",
       "      <th>peso_gramas</th>\n",
       "      <th>entregue_no_prazo</th>\n",
       "    </tr>\n",
       "  </thead>\n",
       "  <tbody>\n",
       "    <tr>\n",
       "      <th>4107</th>\n",
       "      <td>4108</td>\n",
       "      <td>B</td>\n",
       "      <td>Aviao</td>\n",
       "      <td>3</td>\n",
       "      <td>5</td>\n",
       "      <td>108</td>\n",
       "      <td>2</td>\n",
       "      <td>baixa</td>\n",
       "      <td>F</td>\n",
       "      <td>10</td>\n",
       "      <td>5559</td>\n",
       "      <td>1</td>\n",
       "    </tr>\n",
       "    <tr>\n",
       "      <th>453</th>\n",
       "      <td>454</td>\n",
       "      <td>B</td>\n",
       "      <td>Navio</td>\n",
       "      <td>4</td>\n",
       "      <td>1</td>\n",
       "      <td>275</td>\n",
       "      <td>10</td>\n",
       "      <td>media</td>\n",
       "      <td>F</td>\n",
       "      <td>23</td>\n",
       "      <td>2726</td>\n",
       "      <td>1</td>\n",
       "    </tr>\n",
       "    <tr>\n",
       "      <th>9541</th>\n",
       "      <td>9542</td>\n",
       "      <td>F</td>\n",
       "      <td>Navio</td>\n",
       "      <td>3</td>\n",
       "      <td>4</td>\n",
       "      <td>171</td>\n",
       "      <td>3</td>\n",
       "      <td>baixa</td>\n",
       "      <td>M</td>\n",
       "      <td>10</td>\n",
       "      <td>4839</td>\n",
       "      <td>0</td>\n",
       "    </tr>\n",
       "    <tr>\n",
       "      <th>8428</th>\n",
       "      <td>8429</td>\n",
       "      <td>C</td>\n",
       "      <td>Navio</td>\n",
       "      <td>4</td>\n",
       "      <td>1</td>\n",
       "      <td>236</td>\n",
       "      <td>3</td>\n",
       "      <td>baixa</td>\n",
       "      <td>F</td>\n",
       "      <td>8</td>\n",
       "      <td>4114</td>\n",
       "      <td>0</td>\n",
       "    </tr>\n",
       "    <tr>\n",
       "      <th>3948</th>\n",
       "      <td>3949</td>\n",
       "      <td>D</td>\n",
       "      <td>Caminhao</td>\n",
       "      <td>4</td>\n",
       "      <td>1</td>\n",
       "      <td>258</td>\n",
       "      <td>3</td>\n",
       "      <td>media</td>\n",
       "      <td>M</td>\n",
       "      <td>2</td>\n",
       "      <td>4188</td>\n",
       "      <td>0</td>\n",
       "    </tr>\n",
       "  </tbody>\n",
       "</table>\n",
       "</div>"
      ],
      "text/plain": [
       "        ID corredor_armazem modo_envio  numero_chamadas_cliente  \\\n",
       "4107  4108                B      Aviao                        3   \n",
       "453    454                B      Navio                        4   \n",
       "9541  9542                F      Navio                        3   \n",
       "8428  8429                C      Navio                        4   \n",
       "3948  3949                D   Caminhao                        4   \n",
       "\n",
       "      avaliacao_cliente  custo_produto  compras_anteriores prioridade_produto  \\\n",
       "4107                  5            108                   2              baixa   \n",
       "453                   1            275                  10              media   \n",
       "9541                  4            171                   3              baixa   \n",
       "8428                  1            236                   3              baixa   \n",
       "3948                  1            258                   3              media   \n",
       "\n",
       "     genero  desconto  peso_gramas  entregue_no_prazo  \n",
       "4107      F        10         5559                  1  \n",
       "453       F        23         2726                  1  \n",
       "9541      M        10         4839                  0  \n",
       "8428      F         8         4114                  0  \n",
       "3948      M         2         4188                  0  "
      ]
     },
     "execution_count": 8,
     "metadata": {},
     "output_type": "execute_result"
    }
   ],
   "source": [
    "# Verificando 5 linhas aleatórias\n",
    "df.sample(5)"
   ]
  },
  {
   "cell_type": "markdown",
   "id": "aa3a475e",
   "metadata": {},
   "source": [
    "<br><br>"
   ]
  },
  {
   "cell_type": "markdown",
   "id": "3f996978",
   "metadata": {},
   "source": [
    "# <u>Parte 1</u><br>"
   ]
  },
  {
   "cell_type": "markdown",
   "id": "b96056c7",
   "metadata": {},
   "source": [
    "### Verificação e tratamento dos tipos das Variáveis (Categóricas e Numéricas)"
   ]
  },
  {
   "cell_type": "code",
   "execution_count": 9,
   "id": "a0e8e5db",
   "metadata": {},
   "outputs": [
    {
     "data": {
      "text/plain": [
       "Index(['ID', 'corredor_armazem', 'modo_envio', 'numero_chamadas_cliente',\n",
       "       'avaliacao_cliente', 'custo_produto', 'compras_anteriores',\n",
       "       'prioridade_produto', 'genero', 'desconto', 'peso_gramas',\n",
       "       'entregue_no_prazo'],\n",
       "      dtype='object')"
      ]
     },
     "execution_count": 9,
     "metadata": {},
     "output_type": "execute_result"
    }
   ],
   "source": [
    "# Verificando nome das colunas\n",
    "df.columns"
   ]
  },
  {
   "cell_type": "code",
   "execution_count": 10,
   "id": "e64826af",
   "metadata": {},
   "outputs": [
    {
     "data": {
      "text/plain": [
       "ID                          int64\n",
       "corredor_armazem           object\n",
       "modo_envio                 object\n",
       "numero_chamadas_cliente     int64\n",
       "avaliacao_cliente           int64\n",
       "custo_produto               int64\n",
       "compras_anteriores          int64\n",
       "prioridade_produto         object\n",
       "genero                     object\n",
       "desconto                    int64\n",
       "peso_gramas                 int64\n",
       "entregue_no_prazo           int64\n",
       "dtype: object"
      ]
     },
     "execution_count": 10,
     "metadata": {},
     "output_type": "execute_result"
    }
   ],
   "source": [
    "# Verificando o tipo das variáveis (objetc = categórica | int = numérica)\n",
    "df.dtypes"
   ]
  },
  {
   "cell_type": "code",
   "execution_count": 11,
   "id": "0cbd84df",
   "metadata": {},
   "outputs": [],
   "source": [
    "# Criando uma lista com o nome das variáveis que foram definidas pelo PANDA como categóricas para filtragem\n",
    "cats = ['corredor_armazem',\n",
    "        'modo_envio',\n",
    "        'prioridade_produto',\n",
    "        'genero']"
   ]
  },
  {
   "cell_type": "code",
   "execution_count": 12,
   "id": "4aae694c",
   "metadata": {},
   "outputs": [],
   "source": [
    "# Criando uma lista com o nome das variáveis que foram definidas pelo PANDA como numéricas para filtragem\n",
    "nums = ['numero_chamadas_cliente', \n",
    "        'avaliacao_cliente', \n",
    "        'custo_produto', \n",
    "        'compras_anteriores', \n",
    "        'desconto', \n",
    "        'peso_gramas']\n",
    "\n",
    "# -> A variávei \"ID\" não foi incluída pois não é uma variável com informações válidas\n",
    "# -> A variável alvo/target 'entregue_no_prazo' (variável cujo objetivo é ser prevista) também foi removida\n",
    "#    das variáveis numéricas"
   ]
  },
  {
   "cell_type": "code",
   "execution_count": 13,
   "id": "6afe3704",
   "metadata": {},
   "outputs": [
    {
     "data": {
      "text/plain": [
       "entregue_no_prazo\n",
       "1    6563\n",
       "0    4437\n",
       "Name: count, dtype: int64"
      ]
     },
     "execution_count": 13,
     "metadata": {},
     "output_type": "execute_result"
    }
   ],
   "source": [
    "# Verificando sumário da variável alvo\n",
    "df['entregue_no_prazo'].value_counts()"
   ]
  },
  {
   "cell_type": "code",
   "execution_count": 14,
   "id": "53c1b21b",
   "metadata": {},
   "outputs": [
    {
     "data": {
      "text/plain": [
       "['entregue_no_prazo']"
      ]
     },
     "execution_count": 14,
     "metadata": {},
     "output_type": "execute_result"
    }
   ],
   "source": [
    "# Criando uma lista com a variável alvo\n",
    "target = ['entregue_no_prazo']\n",
    "target"
   ]
  },
  {
   "cell_type": "code",
   "execution_count": 15,
   "id": "2c207817",
   "metadata": {},
   "outputs": [
    {
     "data": {
      "text/plain": [
       "list"
      ]
     },
     "execution_count": 15,
     "metadata": {},
     "output_type": "execute_result"
    }
   ],
   "source": [
    "type(target)"
   ]
  },
  {
   "cell_type": "markdown",
   "id": "fbac60f6",
   "metadata": {},
   "source": [
    "### <br>Explorando as Variávels Numéricas"
   ]
  },
  {
   "cell_type": "code",
   "execution_count": 16,
   "id": "f884230b",
   "metadata": {},
   "outputs": [
    {
     "data": {
      "text/html": [
       "<div>\n",
       "<style scoped>\n",
       "    .dataframe tbody tr th:only-of-type {\n",
       "        vertical-align: middle;\n",
       "    }\n",
       "\n",
       "    .dataframe tbody tr th {\n",
       "        vertical-align: top;\n",
       "    }\n",
       "\n",
       "    .dataframe thead th {\n",
       "        text-align: right;\n",
       "    }\n",
       "</style>\n",
       "<table border=\"1\" class=\"dataframe\">\n",
       "  <thead>\n",
       "    <tr style=\"text-align: right;\">\n",
       "      <th></th>\n",
       "      <th>numero_chamadas_cliente</th>\n",
       "      <th>avaliacao_cliente</th>\n",
       "      <th>custo_produto</th>\n",
       "      <th>compras_anteriores</th>\n",
       "      <th>desconto</th>\n",
       "      <th>peso_gramas</th>\n",
       "    </tr>\n",
       "  </thead>\n",
       "  <tbody>\n",
       "    <tr>\n",
       "      <th>count</th>\n",
       "      <td>11000.000000</td>\n",
       "      <td>11000.000000</td>\n",
       "      <td>11000.000000</td>\n",
       "      <td>11000.000000</td>\n",
       "      <td>11000.000000</td>\n",
       "      <td>11000.000000</td>\n",
       "    </tr>\n",
       "    <tr>\n",
       "      <th>mean</th>\n",
       "      <td>4.054455</td>\n",
       "      <td>2.990455</td>\n",
       "      <td>210.200909</td>\n",
       "      <td>3.567727</td>\n",
       "      <td>13.372545</td>\n",
       "      <td>3633.844455</td>\n",
       "    </tr>\n",
       "    <tr>\n",
       "      <th>std</th>\n",
       "      <td>1.141438</td>\n",
       "      <td>1.413570</td>\n",
       "      <td>48.062985</td>\n",
       "      <td>1.522852</td>\n",
       "      <td>16.204943</td>\n",
       "      <td>1635.402722</td>\n",
       "    </tr>\n",
       "    <tr>\n",
       "      <th>min</th>\n",
       "      <td>2.000000</td>\n",
       "      <td>1.000000</td>\n",
       "      <td>96.000000</td>\n",
       "      <td>2.000000</td>\n",
       "      <td>1.000000</td>\n",
       "      <td>1001.000000</td>\n",
       "    </tr>\n",
       "    <tr>\n",
       "      <th>25%</th>\n",
       "      <td>3.000000</td>\n",
       "      <td>2.000000</td>\n",
       "      <td>169.000000</td>\n",
       "      <td>3.000000</td>\n",
       "      <td>4.000000</td>\n",
       "      <td>1839.000000</td>\n",
       "    </tr>\n",
       "    <tr>\n",
       "      <th>50%</th>\n",
       "      <td>4.000000</td>\n",
       "      <td>3.000000</td>\n",
       "      <td>214.000000</td>\n",
       "      <td>3.000000</td>\n",
       "      <td>7.000000</td>\n",
       "      <td>4149.000000</td>\n",
       "    </tr>\n",
       "    <tr>\n",
       "      <th>75%</th>\n",
       "      <td>5.000000</td>\n",
       "      <td>4.000000</td>\n",
       "      <td>251.000000</td>\n",
       "      <td>4.000000</td>\n",
       "      <td>10.000000</td>\n",
       "      <td>5050.000000</td>\n",
       "    </tr>\n",
       "    <tr>\n",
       "      <th>max</th>\n",
       "      <td>7.000000</td>\n",
       "      <td>5.000000</td>\n",
       "      <td>310.000000</td>\n",
       "      <td>10.000000</td>\n",
       "      <td>65.000000</td>\n",
       "      <td>7846.000000</td>\n",
       "    </tr>\n",
       "  </tbody>\n",
       "</table>\n",
       "</div>"
      ],
      "text/plain": [
       "       numero_chamadas_cliente  avaliacao_cliente  custo_produto  \\\n",
       "count             11000.000000       11000.000000   11000.000000   \n",
       "mean                  4.054455           2.990455     210.200909   \n",
       "std                   1.141438           1.413570      48.062985   \n",
       "min                   2.000000           1.000000      96.000000   \n",
       "25%                   3.000000           2.000000     169.000000   \n",
       "50%                   4.000000           3.000000     214.000000   \n",
       "75%                   5.000000           4.000000     251.000000   \n",
       "max                   7.000000           5.000000     310.000000   \n",
       "\n",
       "       compras_anteriores      desconto   peso_gramas  \n",
       "count        11000.000000  11000.000000  11000.000000  \n",
       "mean             3.567727     13.372545   3633.844455  \n",
       "std              1.522852     16.204943   1635.402722  \n",
       "min              2.000000      1.000000   1001.000000  \n",
       "25%              3.000000      4.000000   1839.000000  \n",
       "50%              3.000000      7.000000   4149.000000  \n",
       "75%              4.000000     10.000000   5050.000000  \n",
       "max             10.000000     65.000000   7846.000000  "
      ]
     },
     "execution_count": 16,
     "metadata": {},
     "output_type": "execute_result"
    }
   ],
   "source": [
    "# Resumo das variáveis numéricas\n",
    "df[nums].describe()"
   ]
  },
  {
   "cell_type": "markdown",
   "id": "f9f86ae9",
   "metadata": {},
   "source": [
    "Algumas observações:\n",
    "\n",
    "1. As colunas `numero_chamadas_cliente`, `avaliacao_cliente` e `custo_produto` parecem ter uma distribuição bastante simétrica (média e mediana não são tão diferentes).\n",
    "\n",
    "2. As colunas `compras_anteriores` e `desconto` parecem estar inclinadas para a direita (Média maior do que a Mediana).\n",
    "\n",
    "3. A coluna `peso_gramas` parece estar mais inclinada para a esquerda (Média menor do que a Mediana)."
   ]
  },
  {
   "cell_type": "markdown",
   "id": "26cc8cd0",
   "metadata": {},
   "source": [
    "#### Gráficos Histograma"
   ]
  },
  {
   "cell_type": "code",
   "execution_count": 17,
   "id": "add70e90",
   "metadata": {},
   "outputs": [
    {
     "data": {
      "text/plain": [
       "<Axes: >"
      ]
     },
     "execution_count": 17,
     "metadata": {},
     "output_type": "execute_result"
    },
    {
     "data": {
      "image/png": "[encoded data removed]",
      "text/plain": [
       "<Figure size 432x288 with 1 Axes>"
      ]
     },
     "metadata": {
      "needs_background": "light"
     },
     "output_type": "display_data"
    }
   ],
   "source": [
    "# Variável custo_produto\n",
    "df['custo_produto'].hist()"
   ]
  },
  {
   "cell_type": "code",
   "execution_count": 18,
   "id": "395f9f74",
   "metadata": {},
   "outputs": [
    {
     "data": {
      "text/plain": [
       "<Axes: >"
      ]
     },
     "execution_count": 18,
     "metadata": {},
     "output_type": "execute_result"
    },
    {
     "data": {
      "image/png": "[encoded data removed]",
      "text/plain": [
       "<Figure size 432x288 with 1 Axes>"
      ]
     },
     "metadata": {
      "needs_background": "light"
     },
     "output_type": "display_data"
    }
   ],
   "source": [
    "# Variável custo_produto\n",
    "df['compras_anteriores'].hist()"
   ]
  },
  {
   "cell_type": "markdown",
   "id": "9f693ab5",
   "metadata": {},
   "source": [
    "### <br>Explorando as Variávels Categóricas"
   ]
  },
  {
   "cell_type": "code",
   "execution_count": 19,
   "id": "752fbacf",
   "metadata": {},
   "outputs": [
    {
     "data": {
      "text/html": [
       "<div>\n",
       "<style scoped>\n",
       "    .dataframe tbody tr th:only-of-type {\n",
       "        vertical-align: middle;\n",
       "    }\n",
       "\n",
       "    .dataframe tbody tr th {\n",
       "        vertical-align: top;\n",
       "    }\n",
       "\n",
       "    .dataframe thead th {\n",
       "        text-align: right;\n",
       "    }\n",
       "</style>\n",
       "<table border=\"1\" class=\"dataframe\">\n",
       "  <thead>\n",
       "    <tr style=\"text-align: right;\">\n",
       "      <th></th>\n",
       "      <th>corredor_armazem</th>\n",
       "      <th>modo_envio</th>\n",
       "      <th>prioridade_produto</th>\n",
       "      <th>genero</th>\n",
       "    </tr>\n",
       "  </thead>\n",
       "  <tbody>\n",
       "    <tr>\n",
       "      <th>count</th>\n",
       "      <td>11000</td>\n",
       "      <td>11000</td>\n",
       "      <td>11000</td>\n",
       "      <td>11000</td>\n",
       "    </tr>\n",
       "    <tr>\n",
       "      <th>unique</th>\n",
       "      <td>5</td>\n",
       "      <td>3</td>\n",
       "      <td>3</td>\n",
       "      <td>2</td>\n",
       "    </tr>\n",
       "    <tr>\n",
       "      <th>top</th>\n",
       "      <td>F</td>\n",
       "      <td>Navio</td>\n",
       "      <td>baixa</td>\n",
       "      <td>F</td>\n",
       "    </tr>\n",
       "    <tr>\n",
       "      <th>freq</th>\n",
       "      <td>3666</td>\n",
       "      <td>7463</td>\n",
       "      <td>5298</td>\n",
       "      <td>5546</td>\n",
       "    </tr>\n",
       "  </tbody>\n",
       "</table>\n",
       "</div>"
      ],
      "text/plain": [
       "       corredor_armazem modo_envio prioridade_produto genero\n",
       "count             11000      11000              11000  11000\n",
       "unique                5          3                  3      2\n",
       "top                   F      Navio              baixa      F\n",
       "freq               3666       7463               5298   5546"
      ]
     },
     "execution_count": 19,
     "metadata": {},
     "output_type": "execute_result"
    }
   ],
   "source": [
    "# Resumo das variáveis categóricas (describe exibe informações para variáveis categóricas somente com filtro)\n",
    "df[cats].describe()"
   ]
  },
  {
   "cell_type": "markdown",
   "id": "20547039",
   "metadata": {},
   "source": [
    "Algumas observações:\n",
    "\n",
    "* Top informa a classe com mais resultados e freq informa a quantidade de resultados\n",
    "\n",
    "* Para a variável corredor_armazem **F** é a classe dominante.\n",
    "* Para a variável de modo de envio **Navio** é a classe dominante.\n",
    "* Para a variável de prioridade do produto **baixa** é a classe dominante.\n",
    "* Para a variável de gênero, **F(Feminino)** é a classe dominante.\n",
    "* Todos os valores únicos para cada categoria estão em torno de **2-5 valores únicos**"
   ]
  },
  {
   "cell_type": "code",
   "execution_count": 20,
   "id": "b95a1d3b",
   "metadata": {},
   "outputs": [
    {
     "name": "stdout",
     "output_type": "stream",
     "text": [
      "Total de Registros Por Categoria da Variável corredor_armazem:\n",
      "corredor_armazem\n",
      "F    3666\n",
      "D    1834\n",
      "C    1834\n",
      "A    1833\n",
      "B    1833\n",
      "Name: count, dtype: int64\n",
      "\n",
      "Total de Registros Por Categoria da Variável modo_envio:\n",
      "modo_envio\n",
      "Navio       7463\n",
      "Aviao       1777\n",
      "Caminhao    1760\n",
      "Name: count, dtype: int64\n",
      "\n",
      "Total de Registros Por Categoria da Variável prioridade_produto:\n",
      "prioridade_produto\n",
      "baixa    5298\n",
      "media    4754\n",
      "alta      948\n",
      "Name: count, dtype: int64\n",
      "\n",
      "Total de Registros Por Categoria da Variável genero:\n",
      "genero\n",
      "F    5546\n",
      "M    5454\n",
      "Name: count, dtype: int64\n",
      "\n"
     ]
    }
   ],
   "source": [
    "# Criando loop para listar o value_counts() por categoria de cada variável categórica\n",
    "for col in cats:\n",
    "    print(f'''Total de Registros Por Categoria da Variável {col}:''')\n",
    "    print(df[col].value_counts())\n",
    "    print()"
   ]
  },
  {
   "cell_type": "markdown",
   "id": "720d66d2",
   "metadata": {},
   "source": [
    "### <br>Criando Gráficos para Análise das Variávels Numéricas (Univariada = Analise 1 variável)"
   ]
  },
  {
   "cell_type": "markdown",
   "id": "0efddae0",
   "metadata": {},
   "source": [
    "#### Análise Univariada - Box Plots"
   ]
  },
  {
   "cell_type": "code",
   "execution_count": 28,
   "id": "bdc62694",
   "metadata": {
    "scrolled": true
   },
   "outputs": [
    {
     "data": {
      "image/png": "[encoded data removed]",
      "text/plain": [
       "<Figure size 864x288 with 6 Axes>"
      ]
     },
     "metadata": {
      "needs_background": "light"
     },
     "output_type": "display_data"
    }
   ],
   "source": [
    "# Gerando Box Plots para todas as variáveis numéricas\n",
    "features = nums\n",
    "for i in range(0, len(features)):\n",
    "    plt.subplot(1, len(features), i + 1)\n",
    "    sns.boxplot(y = df[features[i]], color = 'magenta', orient = 'v')\n",
    "    plt.tight_layout()"
   ]
  },
  {
   "cell_type": "markdown",
   "id": "e4916792",
   "metadata": {},
   "source": [
    "#### Análise Univariada - Dist Plots"
   ]
  },
  {
   "cell_type": "code",
   "execution_count": 29,
   "id": "5dd19ea2",
   "metadata": {},
   "outputs": [
    {
     "data": {
      "image/png": "[encoded data removed]",
      "text/plain": [
       "<Figure size 1440x720 with 6 Axes>"
      ]
     },
     "metadata": {
      "needs_background": "light"
     },
     "output_type": "display_data"
    }
   ],
   "source": [
    "# Gerando Dist Plots para todas as variáveis numéricas \n",
    "features = nums\n",
    "plt.figure(figsize = (20, 10))\n",
    "for i in range(0, len(nums)):\n",
    "    plt.subplot(3, len(nums)//2, i+1)\n",
    "    sns.histplot(x = df[features[i]], kde = True, color = 'green')\n",
    "    plt.xlabel(features[i])\n",
    "    plt.tight_layout()"
   ]
  },
  {
   "cell_type": "markdown",
   "id": "bbb72b6d",
   "metadata": {},
   "source": [
    "#### Análise Univariada - Violin Plots"
   ]
  },
  {
   "cell_type": "code",
   "execution_count": 30,
   "id": "455403d9",
   "metadata": {},
   "outputs": [
    {
     "data": {
      "image/png": "[encoded data removed]",
      "text/plain": [
       "<Figure size 864x288 with 6 Axes>"
      ]
     },
     "metadata": {
      "needs_background": "light"
     },
     "output_type": "display_data"
    }
   ],
   "source": [
    "# Gerando Violin Plots para todas as variáveis numéricas \n",
    "for i in range(0, len(nums)):\n",
    "    plt.subplot(1, len(nums), i+1)\n",
    "    sns.violinplot(y = df[nums[i]], color = 'yellow', orient = 'v')\n",
    "    plt.tight_layout()"
   ]
  },
  {
   "cell_type": "markdown",
   "id": "f8f6c652",
   "metadata": {},
   "source": [
    "#### Interpretando os Gráficos\n",
    "\n",
    "A partir dos gráficos pode-se observar que:\n",
    "\n",
    "* A coluna `custo_produto` parece estar próxima de uma distribuição normal.\n",
    "\n",
    "* Como suspeitamo, as colunas `compras_anteriores` e `desconto` estão ligeiramente *inclinadas*, o que significa que existe a possibilidade de precisarmos fazer algo com essas colunas mais tarde.\n",
    "\n",
    "* Para a coluna `peso_gramas` há incerteza de distribuição porque é em forma de u.\n",
    "\n",
    "* As colunas `numero_chamadas_cliente` e `avaliacao_cliente` estão distribuídas uniformemente."
   ]
  },
  {
   "cell_type": "markdown",
   "id": "4a94a692",
   "metadata": {},
   "source": [
    "### Criando Gráficos para Análise das Variávels Categóricas"
   ]
  },
  {
   "cell_type": "markdown",
   "id": "138b0c70",
   "metadata": {},
   "source": [
    "#### Análise Univariada - Count Plot (Categorical)"
   ]
  },
  {
   "cell_type": "code",
   "execution_count": 36,
   "id": "0a0475af",
   "metadata": {},
   "outputs": [
    {
     "data": {
      "image/png": "[encoded data removed]",
      "text/plain": [
       "<Figure size 864x288 with 4 Axes>"
      ]
     },
     "metadata": {
      "needs_background": "light"
     },
     "output_type": "display_data"
    }
   ],
   "source": [
    "# Gerando Count Plots para todas as variáveis categóricas \n",
    "df_sample = df.sample(1000, random_state = 42)\n",
    "for i in range(0, len(cats)):\n",
    "    plt.subplot(2, 3, i+1)\n",
    "    sns.countplot(x = df_sample[cats[i]], color = 'green', orient = 'v')\n",
    "    plt.tight_layout()"
   ]
  },
  {
   "cell_type": "markdown",
   "id": "49af903c",
   "metadata": {},
   "source": [
    "#### Interpretando os Gráficos\n",
    "\n",
    "A partir dos gráficos pode-se observar que:\n",
    "\n",
    "* A maioria dos produtos enviados vieram do corredor F.\n",
    "\n",
    "* Modo de envio através de Navio é o mais comum.\n",
    "\n",
    "* Há poucos produtos com prioridade alta de entrega.\n",
    "\n",
    "* A proporção de clientes do sexo Masculino e Feminino é praticamente a mesma."
   ]
  },
  {
   "cell_type": "markdown",
   "id": "670d4122",
   "metadata": {},
   "source": [
    "### <br>Criando Gráfico para Análise da Variável Alvo"
   ]
  },
  {
   "cell_type": "markdown",
   "id": "540dcbce",
   "metadata": {},
   "source": [
    "#### Análise Univariada - Count Plot (Variável Alvo)"
   ]
  },
  {
   "cell_type": "code",
   "execution_count": 37,
   "id": "3009d8ed",
   "metadata": {},
   "outputs": [
    {
     "data": {
      "text/plain": [
       "<Axes: xlabel='entregue_no_prazo', ylabel='count'>"
      ]
     },
     "execution_count": 37,
     "metadata": {},
     "output_type": "execute_result"
    },
    {
     "data": {
      "image/png": "[encoded data removed]",
      "text/plain": [
       "<Figure size 864x288 with 1 Axes>"
      ]
     },
     "metadata": {
      "needs_background": "light"
     },
     "output_type": "display_data"
    }
   ],
   "source": [
    "# Count Plot da variável target\n",
    "sns.countplot(data = df, x = df['entregue_no_prazo'], hue = 'entregue_no_prazo')"
   ]
  },
  {
   "cell_type": "markdown",
   "id": "f4d63cf2",
   "metadata": {},
   "source": [
    "#### Interpretando o Gráfico\n",
    "\n",
    "A partir do gráfico pode-se observar que:\n",
    "\n",
    "* A coluna `entregue_no_prazo` é binária, então não há necessidade de prestar muita atenção à forma da distribuição.\n"
   ]
  },
  {
   "cell_type": "markdown",
   "id": "4213ffc9",
   "metadata": {},
   "source": [
    "# <br> Relacionamento entre as Variáveis x Variável Alvo (Análise Bivariada)"
   ]
  },
  {
   "cell_type": "markdown",
   "id": "a3f7d98f",
   "metadata": {},
   "source": [
    "### <br>Mapa de Correlação para Análise das Variávels Numéricas x Variável Target"
   ]
  },
  {
   "cell_type": "code",
   "execution_count": 33,
   "id": "b3bffa79",
   "metadata": {},
   "outputs": [
    {
     "data": {
      "text/html": [
       "<div>\n",
       "<style scoped>\n",
       "    .dataframe tbody tr th:only-of-type {\n",
       "        vertical-align: middle;\n",
       "    }\n",
       "\n",
       "    .dataframe tbody tr th {\n",
       "        vertical-align: top;\n",
       "    }\n",
       "\n",
       "    .dataframe thead th {\n",
       "        text-align: right;\n",
       "    }\n",
       "</style>\n",
       "<table border=\"1\" class=\"dataframe\">\n",
       "  <thead>\n",
       "    <tr style=\"text-align: right;\">\n",
       "      <th></th>\n",
       "      <th>numero_chamadas_cliente</th>\n",
       "      <th>avaliacao_cliente</th>\n",
       "      <th>custo_produto</th>\n",
       "      <th>compras_anteriores</th>\n",
       "      <th>desconto</th>\n",
       "      <th>peso_gramas</th>\n",
       "    </tr>\n",
       "  </thead>\n",
       "  <tbody>\n",
       "    <tr>\n",
       "      <th>numero_chamadas_cliente</th>\n",
       "      <td>1.000000</td>\n",
       "      <td>0.012212</td>\n",
       "      <td>0.323165</td>\n",
       "      <td>0.180760</td>\n",
       "      <td>-0.130747</td>\n",
       "      <td>-0.276593</td>\n",
       "    </tr>\n",
       "    <tr>\n",
       "      <th>avaliacao_cliente</th>\n",
       "      <td>0.012212</td>\n",
       "      <td>1.000000</td>\n",
       "      <td>0.009210</td>\n",
       "      <td>0.013119</td>\n",
       "      <td>-0.003095</td>\n",
       "      <td>-0.001823</td>\n",
       "    </tr>\n",
       "    <tr>\n",
       "      <th>custo_produto</th>\n",
       "      <td>0.323165</td>\n",
       "      <td>0.009210</td>\n",
       "      <td>1.000000</td>\n",
       "      <td>0.123746</td>\n",
       "      <td>-0.138343</td>\n",
       "      <td>-0.132689</td>\n",
       "    </tr>\n",
       "    <tr>\n",
       "      <th>compras_anteriores</th>\n",
       "      <td>0.180760</td>\n",
       "      <td>0.013119</td>\n",
       "      <td>0.123746</td>\n",
       "      <td>1.000000</td>\n",
       "      <td>-0.082804</td>\n",
       "      <td>-0.168295</td>\n",
       "    </tr>\n",
       "    <tr>\n",
       "      <th>desconto</th>\n",
       "      <td>-0.130747</td>\n",
       "      <td>-0.003095</td>\n",
       "      <td>-0.138343</td>\n",
       "      <td>-0.082804</td>\n",
       "      <td>1.000000</td>\n",
       "      <td>-0.375992</td>\n",
       "    </tr>\n",
       "    <tr>\n",
       "      <th>peso_gramas</th>\n",
       "      <td>-0.276593</td>\n",
       "      <td>-0.001823</td>\n",
       "      <td>-0.132689</td>\n",
       "      <td>-0.168295</td>\n",
       "      <td>-0.375992</td>\n",
       "      <td>1.000000</td>\n",
       "    </tr>\n",
       "  </tbody>\n",
       "</table>\n",
       "</div>"
      ],
      "text/plain": [
       "                         numero_chamadas_cliente  avaliacao_cliente  \\\n",
       "numero_chamadas_cliente                 1.000000           0.012212   \n",
       "avaliacao_cliente                       0.012212           1.000000   \n",
       "custo_produto                           0.323165           0.009210   \n",
       "compras_anteriores                      0.180760           0.013119   \n",
       "desconto                               -0.130747          -0.003095   \n",
       "peso_gramas                            -0.276593          -0.001823   \n",
       "\n",
       "                         custo_produto  compras_anteriores  desconto  \\\n",
       "numero_chamadas_cliente       0.323165            0.180760 -0.130747   \n",
       "avaliacao_cliente             0.009210            0.013119 -0.003095   \n",
       "custo_produto                 1.000000            0.123746 -0.138343   \n",
       "compras_anteriores            0.123746            1.000000 -0.082804   \n",
       "desconto                     -0.138343           -0.082804  1.000000   \n",
       "peso_gramas                  -0.132689           -0.168295 -0.375992   \n",
       "\n",
       "                         peso_gramas  \n",
       "numero_chamadas_cliente    -0.276593  \n",
       "avaliacao_cliente          -0.001823  \n",
       "custo_produto              -0.132689  \n",
       "compras_anteriores         -0.168295  \n",
       "desconto                   -0.375992  \n",
       "peso_gramas                 1.000000  "
      ]
     },
     "execution_count": 33,
     "metadata": {},
     "output_type": "execute_result"
    }
   ],
   "source": [
    "# Criando Mapa de Correlação (somente variáveis numéricas)\n",
    "corr_df = df[nums].corr()\n",
    "corr_df"
   ]
  },
  {
   "cell_type": "code",
   "execution_count": 35,
   "id": "01a49304",
   "metadata": {},
   "outputs": [
    {
     "data": {
      "text/plain": [
       "<Axes: >"
      ]
     },
     "execution_count": 35,
     "metadata": {},
     "output_type": "execute_result"
    },
    {
     "data": {
      "image/png": "[encoded data removed]",
      "text/plain": [
       "<Figure size 576x576 with 2 Axes>"
      ]
     },
     "metadata": {
      "needs_background": "light"
     },
     "output_type": "display_data"
    }
   ],
   "source": [
    "# Visualizando Mapa de Correlação através de Gráfico\n",
    "plt.figure(figsize = (8, 8))\n",
    "sns.heatmap(corr_df, cmap = 'Blues', annot = True, fmt = '.2f')"
   ]
  },
  {
   "cell_type": "markdown",
   "id": "87cac40c",
   "metadata": {},
   "source": [
    "A partir do *mapa de correlação* acima, pode-se ver que:\n",
    "\n",
    "* Há uma correlação positiva entre `numero_chamadas_cliente` e `custo_produto`.\n",
    "* Há uma correlação positiva entre `numero_chamadas_cliente` e `compras_anteriores`.\n",
    "* Há uma correlação negativa entre `desconto` e `peso_gramas`.\n",
    "* E há uma correlação fraca entre as demais variáveis.\n",
    "\n",
    "Obs: Não usamos correlação para variáveis categóricas. Nesse caso usamos associação."
   ]
  },
  {
   "cell_type": "markdown",
   "id": "534068ad",
   "metadata": {},
   "source": [
    "### <br>Criando Gráficos para Análise das Variávels Categóricas x Variável Target"
   ]
  },
  {
   "cell_type": "code",
   "execution_count": 39,
   "id": "9c773deb",
   "metadata": {},
   "outputs": [
    {
     "data": {
      "image/png": "[encoded data removed]",
      "text/plain": [
       "<Figure size 1080x648 with 4 Axes>"
      ]
     },
     "metadata": {
      "needs_background": "light"
     },
     "output_type": "display_data"
    }
   ],
   "source": [
    "# Gerando Count Plots para todas as variáveis categóricas x variável alvo\n",
    "plt.figure(figsize = (15, 9))\n",
    "features = cats\n",
    "for i in range(0, len(features)):\n",
    "    plt.subplot(2, 2, i+1) \n",
    "    sns.countplot(data = df_sample, x = features[i], hue = 'entregue_no_prazo')\n",
    "    plt.tight_layout()"
   ]
  },
  {
   "cell_type": "markdown",
   "id": "16132953",
   "metadata": {},
   "source": [
    "Observações:\n",
    "\n",
    "* Envio por navio tende a apresentar atraso na entrega.\n",
    "* Em prioridade_produto as categorias baixa e média tendem a apresentar atrasos na entrega.\n",
    "* Em corredor_armazem produtos do corredor F tendem a apresentar atraso na entrega.\n",
    "* Produtos comprados por mulheres tem um volume ligeiramente menor de entregas feitas no prazo."
   ]
  },
  {
   "cell_type": "markdown",
   "id": "fc04f198",
   "metadata": {},
   "source": [
    "## <br>Conclusão da Parte 1 da EDA:\n",
    "\n",
    "Algumas das coisas que encontramos neste conjunto de dados são:\n",
    "\n",
    "* Os dados parecem válidos e não há defeitos maiores/significativos.\n",
    "\n",
    "* Existem algumas distribuições que são um pouco *assimétricas*, isso deve ser lembrado se usarmos modelos que exijam a suposição de uma distribuição normal.\n",
    "\n",
    "* Não detectamos problemas de multicolinearidade.\n",
    "\n",
    "* Alguns *recursos* parecem completamente não correlacionados.\n",
    "\n",
    "* Dos recursos categóricos, `modo_envio` , `corredor_armazem` e `importancia_produto` parecem úteis para prever a variável target."
   ]
  },
  {
   "cell_type": "markdown",
   "id": "264a6eb6",
   "metadata": {},
   "source": [
    "# <br><br><u>Parte 2</u>\n",
    "#### -> Esta parte 2 terá como foco perguntas de negócio. <br>"
   ]
  },
  {
   "cell_type": "markdown",
   "id": "aea61c9b",
   "metadata": {},
   "source": [
    "## <br><br><u><font color='darkgreen'>Pergunta 1:</font></u><br>\n",
    "\n",
    "### 1) Os atrasos nas entregas estão igualmente distribuídos pelos modos de envio? Há diferenças discrepantes?\n"
   ]
  },
  {
   "cell_type": "code",
   "execution_count": 41,
   "id": "ca7f5530",
   "metadata": {},
   "outputs": [
    {
     "data": {
      "text/plain": [
       "Index(['ID', 'corredor_armazem', 'modo_envio', 'numero_chamadas_cliente',\n",
       "       'avaliacao_cliente', 'custo_produto', 'compras_anteriores',\n",
       "       'prioridade_produto', 'genero', 'desconto', 'peso_gramas',\n",
       "       'entregue_no_prazo'],\n",
       "      dtype='object')"
      ]
     },
     "execution_count": 41,
     "metadata": {},
     "output_type": "execute_result"
    }
   ],
   "source": [
    "# Relembrando nome das colunas\n",
    "df.columns"
   ]
  },
  {
   "cell_type": "code",
   "execution_count": 42,
   "id": "bfddeb75",
   "metadata": {},
   "outputs": [
    {
     "data": {
      "text/plain": [
       "modo_envio\n",
       "Navio       7463\n",
       "Aviao       1777\n",
       "Caminhao    1760\n",
       "Name: count, dtype: int64"
      ]
     },
     "execution_count": 42,
     "metadata": {},
     "output_type": "execute_result"
    }
   ],
   "source": [
    "# Verificando as classes da Coluna modo_envio\n",
    "df['modo_envio'].value_counts()"
   ]
  },
  {
   "cell_type": "markdown",
   "id": "80b2d42f",
   "metadata": {},
   "source": [
    "* Podemos constatar que tem muito mais mercadorias sendo enviada por Navio. Por isso em números absolutos obviamente Navio terá o maior número.\n",
    "* Mas e em números percentuais?"
   ]
  },
  {
   "cell_type": "code",
   "execution_count": 43,
   "id": "55157b05",
   "metadata": {},
   "outputs": [
    {
     "data": {
      "text/html": [
       "<div>\n",
       "<style scoped>\n",
       "    .dataframe tbody tr th:only-of-type {\n",
       "        vertical-align: middle;\n",
       "    }\n",
       "\n",
       "    .dataframe tbody tr th {\n",
       "        vertical-align: top;\n",
       "    }\n",
       "\n",
       "    .dataframe thead th {\n",
       "        text-align: right;\n",
       "    }\n",
       "</style>\n",
       "<table border=\"1\" class=\"dataframe\">\n",
       "  <thead>\n",
       "    <tr style=\"text-align: right;\">\n",
       "      <th></th>\n",
       "      <th>entregue_no_prazo</th>\n",
       "      <th>modo_envio</th>\n",
       "      <th>ID</th>\n",
       "    </tr>\n",
       "  </thead>\n",
       "  <tbody>\n",
       "    <tr>\n",
       "      <th>0</th>\n",
       "      <td>0</td>\n",
       "      <td>Aviao</td>\n",
       "      <td>708</td>\n",
       "    </tr>\n",
       "    <tr>\n",
       "      <th>1</th>\n",
       "      <td>0</td>\n",
       "      <td>Caminhao</td>\n",
       "      <td>725</td>\n",
       "    </tr>\n",
       "    <tr>\n",
       "      <th>2</th>\n",
       "      <td>0</td>\n",
       "      <td>Navio</td>\n",
       "      <td>3004</td>\n",
       "    </tr>\n",
       "    <tr>\n",
       "      <th>3</th>\n",
       "      <td>1</td>\n",
       "      <td>Aviao</td>\n",
       "      <td>1069</td>\n",
       "    </tr>\n",
       "    <tr>\n",
       "      <th>4</th>\n",
       "      <td>1</td>\n",
       "      <td>Caminhao</td>\n",
       "      <td>1035</td>\n",
       "    </tr>\n",
       "    <tr>\n",
       "      <th>5</th>\n",
       "      <td>1</td>\n",
       "      <td>Navio</td>\n",
       "      <td>4459</td>\n",
       "    </tr>\n",
       "  </tbody>\n",
       "</table>\n",
       "</div>"
      ],
      "text/plain": [
       "   entregue_no_prazo modo_envio    ID\n",
       "0                  0      Aviao   708\n",
       "1                  0   Caminhao   725\n",
       "2                  0      Navio  3004\n",
       "3                  1      Aviao  1069\n",
       "4                  1   Caminhao  1035\n",
       "5                  1      Navio  4459"
      ]
     },
     "execution_count": 43,
     "metadata": {},
     "output_type": "execute_result"
    }
   ],
   "source": [
    "# Criando Tabela de Agregação 1 através de entregue_no_prazo e modo_envio\n",
    "# Usando coluna ID para retornar a quantidade de valores únicos\n",
    "df_group1 = df.groupby(['entregue_no_prazo', 'modo_envio']).agg({'ID' : 'nunique'}).reset_index()\n",
    "df_group1"
   ]
  },
  {
   "cell_type": "code",
   "execution_count": 44,
   "id": "ab914267",
   "metadata": {},
   "outputs": [
    {
     "data": {
      "text/html": [
       "<div>\n",
       "<style scoped>\n",
       "    .dataframe tbody tr th:only-of-type {\n",
       "        vertical-align: middle;\n",
       "    }\n",
       "\n",
       "    .dataframe tbody tr th {\n",
       "        vertical-align: top;\n",
       "    }\n",
       "\n",
       "    .dataframe thead th {\n",
       "        text-align: right;\n",
       "    }\n",
       "</style>\n",
       "<table border=\"1\" class=\"dataframe\">\n",
       "  <thead>\n",
       "    <tr style=\"text-align: right;\">\n",
       "      <th></th>\n",
       "      <th>entregue_no_prazo</th>\n",
       "      <th>ID</th>\n",
       "    </tr>\n",
       "  </thead>\n",
       "  <tbody>\n",
       "    <tr>\n",
       "      <th>0</th>\n",
       "      <td>0</td>\n",
       "      <td>4437</td>\n",
       "    </tr>\n",
       "    <tr>\n",
       "      <th>1</th>\n",
       "      <td>1</td>\n",
       "      <td>6563</td>\n",
       "    </tr>\n",
       "  </tbody>\n",
       "</table>\n",
       "</div>"
      ],
      "text/plain": [
       "   entregue_no_prazo    ID\n",
       "0                  0  4437\n",
       "1                  1  6563"
      ]
     },
     "execution_count": 44,
     "metadata": {},
     "output_type": "execute_result"
    }
   ],
   "source": [
    "# Criando Tabela de Agregação 2 através de entregue_no_prazo\n",
    "# Usando coluna ID para retornar a quantidade de valores únicos\n",
    "df_group2 = df.groupby('entregue_no_prazo').agg({'ID' : 'nunique'}).reset_index() \n",
    "df_group2"
   ]
  },
  {
   "cell_type": "code",
   "execution_count": 45,
   "id": "aa3affbf",
   "metadata": {},
   "outputs": [
    {
     "data": {
      "text/html": [
       "<div>\n",
       "<style scoped>\n",
       "    .dataframe tbody tr th:only-of-type {\n",
       "        vertical-align: middle;\n",
       "    }\n",
       "\n",
       "    .dataframe tbody tr th {\n",
       "        vertical-align: top;\n",
       "    }\n",
       "\n",
       "    .dataframe thead th {\n",
       "        text-align: right;\n",
       "    }\n",
       "</style>\n",
       "<table border=\"1\" class=\"dataframe\">\n",
       "  <thead>\n",
       "    <tr style=\"text-align: right;\">\n",
       "      <th></th>\n",
       "      <th>entregue_no_prazo</th>\n",
       "      <th>modo_envio</th>\n",
       "      <th>ID_x</th>\n",
       "      <th>ID_y</th>\n",
       "    </tr>\n",
       "  </thead>\n",
       "  <tbody>\n",
       "    <tr>\n",
       "      <th>0</th>\n",
       "      <td>0</td>\n",
       "      <td>Aviao</td>\n",
       "      <td>708</td>\n",
       "      <td>4437</td>\n",
       "    </tr>\n",
       "    <tr>\n",
       "      <th>1</th>\n",
       "      <td>0</td>\n",
       "      <td>Caminhao</td>\n",
       "      <td>725</td>\n",
       "      <td>4437</td>\n",
       "    </tr>\n",
       "    <tr>\n",
       "      <th>2</th>\n",
       "      <td>0</td>\n",
       "      <td>Navio</td>\n",
       "      <td>3004</td>\n",
       "      <td>4437</td>\n",
       "    </tr>\n",
       "    <tr>\n",
       "      <th>3</th>\n",
       "      <td>1</td>\n",
       "      <td>Aviao</td>\n",
       "      <td>1069</td>\n",
       "      <td>6563</td>\n",
       "    </tr>\n",
       "    <tr>\n",
       "      <th>4</th>\n",
       "      <td>1</td>\n",
       "      <td>Caminhao</td>\n",
       "      <td>1035</td>\n",
       "      <td>6563</td>\n",
       "    </tr>\n",
       "    <tr>\n",
       "      <th>5</th>\n",
       "      <td>1</td>\n",
       "      <td>Navio</td>\n",
       "      <td>4459</td>\n",
       "      <td>6563</td>\n",
       "    </tr>\n",
       "  </tbody>\n",
       "</table>\n",
       "</div>"
      ],
      "text/plain": [
       "   entregue_no_prazo modo_envio  ID_x  ID_y\n",
       "0                  0      Aviao   708  4437\n",
       "1                  0   Caminhao   725  4437\n",
       "2                  0      Navio  3004  4437\n",
       "3                  1      Aviao  1069  6563\n",
       "4                  1   Caminhao  1035  6563\n",
       "5                  1      Navio  4459  6563"
      ]
     },
     "execution_count": 45,
     "metadata": {},
     "output_type": "execute_result"
    }
   ],
   "source": [
    "# Criando Tabela de agregação 3 (\n",
    "# Concatenando Tabela de Agregação 1 e Tabela de Agregação 2 com base na coluna \"entregue_no_prazo\"\n",
    "df_group3 = df_group1.merge(df_group2, on = 'entregue_no_prazo')\n",
    "df_group3"
   ]
  },
  {
   "cell_type": "code",
   "execution_count": 46,
   "id": "ad8265b4",
   "metadata": {},
   "outputs": [
    {
     "data": {
      "text/html": [
       "<div>\n",
       "<style scoped>\n",
       "    .dataframe tbody tr th:only-of-type {\n",
       "        vertical-align: middle;\n",
       "    }\n",
       "\n",
       "    .dataframe tbody tr th {\n",
       "        vertical-align: top;\n",
       "    }\n",
       "\n",
       "    .dataframe thead th {\n",
       "        text-align: right;\n",
       "    }\n",
       "</style>\n",
       "<table border=\"1\" class=\"dataframe\">\n",
       "  <thead>\n",
       "    <tr style=\"text-align: right;\">\n",
       "      <th></th>\n",
       "      <th>modo_envio</th>\n",
       "      <th>ID</th>\n",
       "    </tr>\n",
       "  </thead>\n",
       "  <tbody>\n",
       "    <tr>\n",
       "      <th>0</th>\n",
       "      <td>Aviao</td>\n",
       "      <td>1777</td>\n",
       "    </tr>\n",
       "    <tr>\n",
       "      <th>1</th>\n",
       "      <td>Caminhao</td>\n",
       "      <td>1760</td>\n",
       "    </tr>\n",
       "    <tr>\n",
       "      <th>2</th>\n",
       "      <td>Navio</td>\n",
       "      <td>7463</td>\n",
       "    </tr>\n",
       "  </tbody>\n",
       "</table>\n",
       "</div>"
      ],
      "text/plain": [
       "  modo_envio    ID\n",
       "0      Aviao  1777\n",
       "1   Caminhao  1760\n",
       "2      Navio  7463"
      ]
     },
     "execution_count": 46,
     "metadata": {},
     "output_type": "execute_result"
    }
   ],
   "source": [
    "# Criando Tabela de Agregação 4 através de modo_envio\n",
    "# Usando coluna ID para retornar a quantidade de valores únicos\n",
    "df_group4 = df.groupby('modo_envio').agg({'ID' : 'nunique'}).reset_index() \n",
    "df_group4"
   ]
  },
  {
   "cell_type": "code",
   "execution_count": 47,
   "id": "c456503a",
   "metadata": {},
   "outputs": [
    {
     "data": {
      "text/html": [
       "<div>\n",
       "<style scoped>\n",
       "    .dataframe tbody tr th:only-of-type {\n",
       "        vertical-align: middle;\n",
       "    }\n",
       "\n",
       "    .dataframe tbody tr th {\n",
       "        vertical-align: top;\n",
       "    }\n",
       "\n",
       "    .dataframe thead th {\n",
       "        text-align: right;\n",
       "    }\n",
       "</style>\n",
       "<table border=\"1\" class=\"dataframe\">\n",
       "  <thead>\n",
       "    <tr style=\"text-align: right;\">\n",
       "      <th></th>\n",
       "      <th>entregue_no_prazo</th>\n",
       "      <th>modo_envio</th>\n",
       "      <th>ID_x</th>\n",
       "      <th>ID_y</th>\n",
       "    </tr>\n",
       "  </thead>\n",
       "  <tbody>\n",
       "    <tr>\n",
       "      <th>0</th>\n",
       "      <td>0</td>\n",
       "      <td>Aviao</td>\n",
       "      <td>708</td>\n",
       "      <td>1777</td>\n",
       "    </tr>\n",
       "    <tr>\n",
       "      <th>1</th>\n",
       "      <td>0</td>\n",
       "      <td>Caminhao</td>\n",
       "      <td>725</td>\n",
       "      <td>1760</td>\n",
       "    </tr>\n",
       "    <tr>\n",
       "      <th>2</th>\n",
       "      <td>0</td>\n",
       "      <td>Navio</td>\n",
       "      <td>3004</td>\n",
       "      <td>7463</td>\n",
       "    </tr>\n",
       "    <tr>\n",
       "      <th>3</th>\n",
       "      <td>1</td>\n",
       "      <td>Aviao</td>\n",
       "      <td>1069</td>\n",
       "      <td>1777</td>\n",
       "    </tr>\n",
       "    <tr>\n",
       "      <th>4</th>\n",
       "      <td>1</td>\n",
       "      <td>Caminhao</td>\n",
       "      <td>1035</td>\n",
       "      <td>1760</td>\n",
       "    </tr>\n",
       "    <tr>\n",
       "      <th>5</th>\n",
       "      <td>1</td>\n",
       "      <td>Navio</td>\n",
       "      <td>4459</td>\n",
       "      <td>7463</td>\n",
       "    </tr>\n",
       "  </tbody>\n",
       "</table>\n",
       "</div>"
      ],
      "text/plain": [
       "   entregue_no_prazo modo_envio  ID_x  ID_y\n",
       "0                  0      Aviao   708  1777\n",
       "1                  0   Caminhao   725  1760\n",
       "2                  0      Navio  3004  7463\n",
       "3                  1      Aviao  1069  1777\n",
       "4                  1   Caminhao  1035  1760\n",
       "5                  1      Navio  4459  7463"
      ]
     },
     "execution_count": 47,
     "metadata": {},
     "output_type": "execute_result"
    }
   ],
   "source": [
    "# Criando Tabela de Agregação 5 (\n",
    "# Concatenando Tabela de Agregação 1 e Tabela de Agregação 4 com base na coluna \"modo_envio\"\n",
    "df_group5 = df_group1.merge(df_group4, on = 'modo_envio')\n",
    "df_group5"
   ]
  },
  {
   "cell_type": "code",
   "execution_count": 48,
   "id": "4509fdd3",
   "metadata": {},
   "outputs": [
    {
     "data": {
      "text/html": [
       "<div>\n",
       "<style scoped>\n",
       "    .dataframe tbody tr th:only-of-type {\n",
       "        vertical-align: middle;\n",
       "    }\n",
       "\n",
       "    .dataframe tbody tr th {\n",
       "        vertical-align: top;\n",
       "    }\n",
       "\n",
       "    .dataframe thead th {\n",
       "        text-align: right;\n",
       "    }\n",
       "</style>\n",
       "<table border=\"1\" class=\"dataframe\">\n",
       "  <thead>\n",
       "    <tr style=\"text-align: right;\">\n",
       "      <th></th>\n",
       "      <th>entregue_no_prazo</th>\n",
       "      <th>modo_envio</th>\n",
       "      <th>ID_x</th>\n",
       "      <th>ID_y</th>\n",
       "      <th>Percentual(%)</th>\n",
       "    </tr>\n",
       "  </thead>\n",
       "  <tbody>\n",
       "    <tr>\n",
       "      <th>0</th>\n",
       "      <td>0</td>\n",
       "      <td>Aviao</td>\n",
       "      <td>708</td>\n",
       "      <td>1777</td>\n",
       "      <td>39.842431</td>\n",
       "    </tr>\n",
       "    <tr>\n",
       "      <th>1</th>\n",
       "      <td>0</td>\n",
       "      <td>Caminhao</td>\n",
       "      <td>725</td>\n",
       "      <td>1760</td>\n",
       "      <td>41.193182</td>\n",
       "    </tr>\n",
       "    <tr>\n",
       "      <th>2</th>\n",
       "      <td>0</td>\n",
       "      <td>Navio</td>\n",
       "      <td>3004</td>\n",
       "      <td>7463</td>\n",
       "      <td>40.251909</td>\n",
       "    </tr>\n",
       "    <tr>\n",
       "      <th>3</th>\n",
       "      <td>1</td>\n",
       "      <td>Aviao</td>\n",
       "      <td>1069</td>\n",
       "      <td>1777</td>\n",
       "      <td>60.157569</td>\n",
       "    </tr>\n",
       "    <tr>\n",
       "      <th>4</th>\n",
       "      <td>1</td>\n",
       "      <td>Caminhao</td>\n",
       "      <td>1035</td>\n",
       "      <td>1760</td>\n",
       "      <td>58.806818</td>\n",
       "    </tr>\n",
       "    <tr>\n",
       "      <th>5</th>\n",
       "      <td>1</td>\n",
       "      <td>Navio</td>\n",
       "      <td>4459</td>\n",
       "      <td>7463</td>\n",
       "      <td>59.748091</td>\n",
       "    </tr>\n",
       "  </tbody>\n",
       "</table>\n",
       "</div>"
      ],
      "text/plain": [
       "   entregue_no_prazo modo_envio  ID_x  ID_y  Percentual(%)\n",
       "0                  0      Aviao   708  1777      39.842431\n",
       "1                  0   Caminhao   725  1760      41.193182\n",
       "2                  0      Navio  3004  7463      40.251909\n",
       "3                  1      Aviao  1069  1777      60.157569\n",
       "4                  1   Caminhao  1035  1760      58.806818\n",
       "5                  1      Navio  4459  7463      59.748091"
      ]
     },
     "execution_count": 48,
     "metadata": {},
     "output_type": "execute_result"
    }
   ],
   "source": [
    "# Utilizando Tabela de Agregação 5 , vamos criar uma nova coluna para calcular o percentual\n",
    "# (divivindo ID_x por ID_y e multiplica por 100)\n",
    "df_group5['Percentual(%)'] = df_group5['ID_x'] / df_group5['ID_y'] * 100\n",
    "df_group5"
   ]
  },
  {
   "cell_type": "code",
   "execution_count": 49,
   "id": "b98d8a0a",
   "metadata": {},
   "outputs": [
    {
     "data": {
      "text/html": [
       "<div>\n",
       "<style scoped>\n",
       "    .dataframe tbody tr th:only-of-type {\n",
       "        vertical-align: middle;\n",
       "    }\n",
       "\n",
       "    .dataframe tbody tr th {\n",
       "        vertical-align: top;\n",
       "    }\n",
       "\n",
       "    .dataframe thead th {\n",
       "        text-align: right;\n",
       "    }\n",
       "</style>\n",
       "<table border=\"1\" class=\"dataframe\">\n",
       "  <thead>\n",
       "    <tr style=\"text-align: right;\">\n",
       "      <th></th>\n",
       "      <th>Status de Entrega no Prazo</th>\n",
       "      <th>Modo de Envio</th>\n",
       "      <th>Total Por Categoria</th>\n",
       "      <th>Total Geral</th>\n",
       "      <th>Percentual(%)</th>\n",
       "    </tr>\n",
       "  </thead>\n",
       "  <tbody>\n",
       "    <tr>\n",
       "      <th>0</th>\n",
       "      <td>0</td>\n",
       "      <td>Aviao</td>\n",
       "      <td>708</td>\n",
       "      <td>1777</td>\n",
       "      <td>39.842431</td>\n",
       "    </tr>\n",
       "    <tr>\n",
       "      <th>1</th>\n",
       "      <td>0</td>\n",
       "      <td>Caminhao</td>\n",
       "      <td>725</td>\n",
       "      <td>1760</td>\n",
       "      <td>41.193182</td>\n",
       "    </tr>\n",
       "    <tr>\n",
       "      <th>2</th>\n",
       "      <td>0</td>\n",
       "      <td>Navio</td>\n",
       "      <td>3004</td>\n",
       "      <td>7463</td>\n",
       "      <td>40.251909</td>\n",
       "    </tr>\n",
       "    <tr>\n",
       "      <th>3</th>\n",
       "      <td>1</td>\n",
       "      <td>Aviao</td>\n",
       "      <td>1069</td>\n",
       "      <td>1777</td>\n",
       "      <td>60.157569</td>\n",
       "    </tr>\n",
       "    <tr>\n",
       "      <th>4</th>\n",
       "      <td>1</td>\n",
       "      <td>Caminhao</td>\n",
       "      <td>1035</td>\n",
       "      <td>1760</td>\n",
       "      <td>58.806818</td>\n",
       "    </tr>\n",
       "    <tr>\n",
       "      <th>5</th>\n",
       "      <td>1</td>\n",
       "      <td>Navio</td>\n",
       "      <td>4459</td>\n",
       "      <td>7463</td>\n",
       "      <td>59.748091</td>\n",
       "    </tr>\n",
       "  </tbody>\n",
       "</table>\n",
       "</div>"
      ],
      "text/plain": [
       "   Status de Entrega no Prazo Modo de Envio  Total Por Categoria  Total Geral  \\\n",
       "0                           0         Aviao                  708         1777   \n",
       "1                           0      Caminhao                  725         1760   \n",
       "2                           0         Navio                 3004         7463   \n",
       "3                           1         Aviao                 1069         1777   \n",
       "4                           1      Caminhao                 1035         1760   \n",
       "5                           1         Navio                 4459         7463   \n",
       "\n",
       "   Percentual(%)  \n",
       "0      39.842431  \n",
       "1      41.193182  \n",
       "2      40.251909  \n",
       "3      60.157569  \n",
       "4      58.806818  \n",
       "5      59.748091  "
      ]
     },
     "execution_count": 49,
     "metadata": {},
     "output_type": "execute_result"
    }
   ],
   "source": [
    "# Renomeando as Colunas da Tabela de Agregação 5\n",
    "df_group5.columns = ['Status de Entrega no Prazo', \n",
    "                     'Modo de Envio', \n",
    "                     'Total Por Categoria', \n",
    "                     'Total Geral', \n",
    "                     'Percentual(%)']\n",
    "df_group5"
   ]
  },
  {
   "cell_type": "markdown",
   "id": "d3e77893",
   "metadata": {},
   "source": [
    "### <br>Gráfico 1 - Análise em Valores Absolutos"
   ]
  },
  {
   "cell_type": "code",
   "execution_count": 50,
   "id": "69f01b93",
   "metadata": {},
   "outputs": [
    {
     "data": {
      "image/png": "[encoded data removed]",
      "text/plain": [
       "<Figure size 1080x720 with 1 Axes>"
      ]
     },
     "metadata": {
      "needs_background": "light"
     },
     "output_type": "display_data"
    }
   ],
   "source": [
    "# Gráfico 1 - Análise em Valores Absolutos (utilizando o dataframe com dados completos df)\n",
    "\n",
    "# Tamanho da figura\n",
    "plt.figure(figsize = (15,10))\n",
    "\n",
    "# Chart\n",
    "chart = sns.countplot(data = df, \n",
    "                      x = 'modo_envio', \n",
    "                      hue = 'entregue_no_prazo',\n",
    "                      palette = [\"red\",\"green\"])\n",
    "\n",
    "# Estilo e labels\n",
    "sns.set(font_scale = 1.5)\n",
    "sns.set_style('whitegrid')\n",
    "sns.set_palette('prism')\n",
    "chart.set_xlabel(\"\\nModo de Envio\", fontsize = 14)\n",
    "chart.set_ylabel(\"Total\", fontsize = 14)\n",
    "\n",
    "# Legenda\n",
    "plt.legend(loc = 'upper right', \n",
    "           borderpad = 1.5, \n",
    "           labelspacing = 1.5, \n",
    "           fontsize = 12, \n",
    "           title = 'Status:')\n",
    "\n",
    "# Adicionado Título \n",
    "chart.text(x = -0.5, \n",
    "           y = 5200, \n",
    "           s = \"Entregas com Base no Modo de Envio (Absoluto)\",\n",
    "           fontsize = 25, \n",
    "           weight = 'bold', \n",
    "           alpha = .75)\n",
    "\n",
    "# Adicionado Sub-Título\n",
    "chart.text(x = -0.5, \n",
    "           y = 4900,\n",
    "           s = 'Há atrasos em todos os modos de envio, mas usar Navio parece ser o modo que mais gera atrasos.',\n",
    "           fontsize = 16, \n",
    "           alpha = .85);"
   ]
  },
  {
   "cell_type": "markdown",
   "id": "cf39ddb0",
   "metadata": {},
   "source": [
    "### <br>Gráfico 2 - Análise em Valores Percentuais"
   ]
  },
  {
   "cell_type": "code",
   "execution_count": 51,
   "id": "1bd43754",
   "metadata": {},
   "outputs": [
    {
     "data": {
      "image/png": "[encoded data removed]",
      "text/plain": [
       "<Figure size 1080x720 with 1 Axes>"
      ]
     },
     "metadata": {},
     "output_type": "display_data"
    }
   ],
   "source": [
    "# Gráfico 2 - Análise em Valores Percentuais (utilizando o dataframe df_group5)\n",
    "\n",
    "# Tamanho da figura\n",
    "plt.figure(figsize = (15,10))\n",
    "\n",
    "# Chart\n",
    "chart = sns.barplot(x = 'Modo de Envio', \n",
    "                    y = 'Percentual(%)', \n",
    "                    data = df_group5, \n",
    "                    hue = 'Status de Entrega no Prazo',\n",
    "                    palette = [\"red\",\"green\"])\n",
    "\n",
    "# Estilo e labels\n",
    "sns.set(font_scale = 1.5)\n",
    "sns.set_style('whitegrid')\n",
    "sns.set_palette('prism')\n",
    "chart.set_xlabel(\"\\nModo de Envio\", fontsize = 14)\n",
    "chart.set_ylabel(\"Percentual (%)\", fontsize = 14)\n",
    "\n",
    "# Legenda\n",
    "plt.legend(loc = 'upper left', \n",
    "           borderpad = 1.5, \n",
    "           labelspacing = 1.5, \n",
    "           fontsize = 12, \n",
    "           title = 'Status:')\n",
    "\n",
    "# Título\n",
    "chart.text(x = -0.5, \n",
    "           y = 70, \n",
    "           s = \"Entregas com Base no Modo de Envio (Percentual)\",\n",
    "           fontsize = 25, \n",
    "           weight = 'bold', \n",
    "           alpha = .75)\n",
    "\n",
    "# Sub-título\n",
    "chart.text(x = -0.5, \n",
    "           y = 64,\n",
    "           s = 'Todos os modos de envio apresentam uma proporção semelhante de envios dentro do prazo e atrasados, \\napesar dos volumes variados de envios.',\n",
    "           fontsize = 16, \n",
    "           alpha = .85);"
   ]
  },
  {
   "cell_type": "markdown",
   "id": "b9f53621",
   "metadata": {},
   "source": [
    "### -> Resposta:   as respostas estão nos gráficos."
   ]
  },
  {
   "cell_type": "markdown",
   "id": "c46ae55d",
   "metadata": {},
   "source": [
    "## <br><br><u><font color='darkgreen'>Pergunta 2:</font></u><br>\n",
    "\n",
    "### 2) Há diferença significativa no atraso das entregas quando o produto tem prioridade baixa ou média?\n"
   ]
  },
  {
   "cell_type": "code",
   "execution_count": null,
   "id": "be60ce86",
   "metadata": {},
   "outputs": [],
   "source": []
  }
 ],
 "metadata": {
  "kernelspec": {
   "display_name": "Python 3 (ipykernel)",
   "language": "python",
   "name": "python3"
  },
  "language_info": {
   "codemirror_mode": {
    "name": "ipython",
    "version": 3
   },
   "file_extension": ".py",
   "mimetype": "text/x-python",
   "name": "python",
   "nbconvert_exporter": "python",
   "pygments_lexer": "ipython3",
   "version": "3.9.7"
  }
 },
 "nbformat": 4,
 "nbformat_minor": 5
}
